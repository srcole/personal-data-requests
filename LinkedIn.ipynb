{
 "cells": [
  {
   "cell_type": "code",
   "execution_count": 29,
   "metadata": {},
   "outputs": [],
   "source": [
    "import pandas as pd\n",
    "import numpy as np\n",
    "import json\n",
    "import datetime\n",
    "\n",
    "%matplotlib inline\n",
    "import matplotlib.pyplot as plt\n",
    "import seaborn as sns\n",
    "import glob\n",
    "\n",
    "pd.options.display.max_rows = 200\n",
    "\n",
    "sns.set_style('whitegrid')\n",
    "plt.style.use('Cole_2018.mplstyle')"
   ]
  },
  {
   "cell_type": "markdown",
   "metadata": {},
   "source": [
    "# 1. Load raw data"
   ]
  },
  {
   "cell_type": "code",
   "execution_count": 30,
   "metadata": {},
   "outputs": [
    {
     "data": {
      "text/html": [
       "<div>\n",
       "<style scoped>\n",
       "    .dataframe tbody tr th:only-of-type {\n",
       "        vertical-align: middle;\n",
       "    }\n",
       "\n",
       "    .dataframe tbody tr th {\n",
       "        vertical-align: top;\n",
       "    }\n",
       "\n",
       "    .dataframe thead th {\n",
       "        text-align: right;\n",
       "    }\n",
       "</style>\n",
       "<table border=\"1\" class=\"dataframe\">\n",
       "  <thead>\n",
       "    <tr style=\"text-align: right;\">\n",
       "      <th></th>\n",
       "      <th>FROM</th>\n",
       "      <th>TO</th>\n",
       "      <th>DATE</th>\n",
       "      <th>SUBJECT</th>\n",
       "      <th>CONTENT</th>\n",
       "      <th>DIRECTION</th>\n",
       "      <th>FOLDER</th>\n",
       "    </tr>\n",
       "  </thead>\n",
       "  <tbody>\n",
       "    <tr>\n",
       "      <th>321</th>\n",
       "      <td>Scott Cole</td>\n",
       "      <td>NaN</td>\n",
       "      <td>2012-02-07 12:47:54</td>\n",
       "      <td>Scott Cole invites you to join Clemson Univers...</td>\n",
       "      <td>I would like to invite you to join my group on...</td>\n",
       "      <td>OUTGOING</td>\n",
       "      <td>SENT</td>\n",
       "    </tr>\n",
       "  </tbody>\n",
       "</table>\n",
       "</div>"
      ],
      "text/plain": [
       "           FROM   TO                DATE  \\\n",
       "321  Scott Cole  NaN 2012-02-07 12:47:54   \n",
       "\n",
       "                                               SUBJECT  \\\n",
       "321  Scott Cole invites you to join Clemson Univers...   \n",
       "\n",
       "                                               CONTENT DIRECTION FOLDER  \n",
       "321  I would like to invite you to join my group on...  OUTGOING   SENT  "
      ]
     },
     "execution_count": 30,
     "metadata": {},
     "output_type": "execute_result"
    }
   ],
   "source": [
    "df_messages = pd.read_csv('/gh/data/personal-data-requests/linkedin/messages.csv', parse_dates=['DATE']).sort_values('DATE')\n",
    "df_messages.loc[[321]]"
   ]
  },
  {
   "cell_type": "code",
   "execution_count": 31,
   "metadata": {},
   "outputs": [
    {
     "data": {
      "text/html": [
       "<div>\n",
       "<style scoped>\n",
       "    .dataframe tbody tr th:only-of-type {\n",
       "        vertical-align: middle;\n",
       "    }\n",
       "\n",
       "    .dataframe tbody tr th {\n",
       "        vertical-align: top;\n",
       "    }\n",
       "\n",
       "    .dataframe thead th {\n",
       "        text-align: right;\n",
       "    }\n",
       "</style>\n",
       "<table border=\"1\" class=\"dataframe\">\n",
       "  <thead>\n",
       "    <tr style=\"text-align: right;\">\n",
       "      <th></th>\n",
       "      <th>Source</th>\n",
       "      <th>FirstName</th>\n",
       "      <th>LastName</th>\n",
       "      <th>Companies</th>\n",
       "      <th>Title</th>\n",
       "      <th>Emails</th>\n",
       "      <th>PhoneNumbers</th>\n",
       "      <th>CreatedAt</th>\n",
       "      <th>Addresses</th>\n",
       "      <th>Sites</th>\n",
       "      <th>InstantMessageHandles</th>\n",
       "      <th>FullName</th>\n",
       "      <th>Birthday</th>\n",
       "      <th>Location</th>\n",
       "      <th>BookmarkedAt</th>\n",
       "      <th>Profiles</th>\n",
       "    </tr>\n",
       "  </thead>\n",
       "  <tbody>\n",
       "    <tr>\n",
       "      <th>337</th>\n",
       "      <td>GOOGLE_CONTACTS</td>\n",
       "      <td>NaN</td>\n",
       "      <td>NaN</td>\n",
       "      <td>NaN</td>\n",
       "      <td>NaN</td>\n",
       "      <td>aice@clemson.edu</td>\n",
       "      <td>NaN</td>\n",
       "      <td>2012-03-10 07:43:00</td>\n",
       "      <td>NaN</td>\n",
       "      <td>NaN</td>\n",
       "      <td>NaN</td>\n",
       "      <td>NaN</td>\n",
       "      <td>NaN</td>\n",
       "      <td>NaN</td>\n",
       "      <td>NaN</td>\n",
       "      <td>NaN</td>\n",
       "    </tr>\n",
       "  </tbody>\n",
       "</table>\n",
       "</div>"
      ],
      "text/plain": [
       "              Source FirstName LastName Companies  Title            Emails  \\\n",
       "337  GOOGLE_CONTACTS       NaN      NaN       NaN    NaN  aice@clemson.edu   \n",
       "\n",
       "     PhoneNumbers           CreatedAt  Addresses  Sites  \\\n",
       "337           NaN 2012-03-10 07:43:00        NaN    NaN   \n",
       "\n",
       "     InstantMessageHandles  FullName  Birthday  Location  BookmarkedAt  \\\n",
       "337                    NaN       NaN       NaN       NaN           NaN   \n",
       "\n",
       "     Profiles  \n",
       "337       NaN  "
      ]
     },
     "execution_count": 31,
     "metadata": {},
     "output_type": "execute_result"
    }
   ],
   "source": [
    "df_contacts = pd.read_csv('/gh/data/personal-data-requests/linkedin/Contacts.csv', parse_dates=['CreatedAt']).sort_values('CreatedAt')\n",
    "df_contacts.loc[[337]]"
   ]
  },
  {
   "cell_type": "code",
   "execution_count": 32,
   "metadata": {},
   "outputs": [
    {
     "data": {
      "text/html": [
       "<div>\n",
       "<style scoped>\n",
       "    .dataframe tbody tr th:only-of-type {\n",
       "        vertical-align: middle;\n",
       "    }\n",
       "\n",
       "    .dataframe tbody tr th {\n",
       "        vertical-align: top;\n",
       "    }\n",
       "\n",
       "    .dataframe thead th {\n",
       "        text-align: right;\n",
       "    }\n",
       "</style>\n",
       "<table border=\"1\" class=\"dataframe\">\n",
       "  <thead>\n",
       "    <tr style=\"text-align: right;\">\n",
       "      <th></th>\n",
       "      <th>First Name</th>\n",
       "      <th>Last Name</th>\n",
       "      <th>Email Address</th>\n",
       "      <th>Company</th>\n",
       "      <th>Position</th>\n",
       "      <th>Connected On</th>\n",
       "    </tr>\n",
       "  </thead>\n",
       "  <tbody>\n",
       "    <tr>\n",
       "      <th>93</th>\n",
       "      <td>Jared</td>\n",
       "      <td>Brooks</td>\n",
       "      <td>NaN</td>\n",
       "      <td>Insight Data Science</td>\n",
       "      <td>Data Science Fellow</td>\n",
       "      <td>2019-01-30</td>\n",
       "    </tr>\n",
       "  </tbody>\n",
       "</table>\n",
       "</div>"
      ],
      "text/plain": [
       "   First Name Last Name Email Address               Company  \\\n",
       "93      Jared    Brooks           NaN  Insight Data Science   \n",
       "\n",
       "               Position Connected On  \n",
       "93  Data Science Fellow   2019-01-30  "
      ]
     },
     "execution_count": 32,
     "metadata": {},
     "output_type": "execute_result"
    }
   ],
   "source": [
    "df_connections = pd.read_csv('/gh/data/personal-data-requests/linkedin/Connections.csv', parse_dates=['Connected On']).sort_values('Connected On')\n",
    "df_connections.loc[[93]]"
   ]
  },
  {
   "cell_type": "code",
   "execution_count": 33,
   "metadata": {},
   "outputs": [
    {
     "data": {
      "text/html": [
       "<div>\n",
       "<style scoped>\n",
       "    .dataframe tbody tr th:only-of-type {\n",
       "        vertical-align: middle;\n",
       "    }\n",
       "\n",
       "    .dataframe tbody tr th {\n",
       "        vertical-align: top;\n",
       "    }\n",
       "\n",
       "    .dataframe thead th {\n",
       "        text-align: right;\n",
       "    }\n",
       "</style>\n",
       "<table border=\"1\" class=\"dataframe\">\n",
       "  <thead>\n",
       "    <tr style=\"text-align: right;\">\n",
       "      <th></th>\n",
       "      <th>Time</th>\n",
       "      <th>Search Query</th>\n",
       "    </tr>\n",
       "  </thead>\n",
       "  <tbody>\n",
       "    <tr>\n",
       "      <th>83</th>\n",
       "      <td>2017-10-18 00:11:32</td>\n",
       "      <td>crime lab new york</td>\n",
       "    </tr>\n",
       "  </tbody>\n",
       "</table>\n",
       "</div>"
      ],
      "text/plain": [
       "                  Time        Search Query\n",
       "83 2017-10-18 00:11:32  crime lab new york"
      ]
     },
     "execution_count": 33,
     "metadata": {},
     "output_type": "execute_result"
    }
   ],
   "source": [
    "df_searches = pd.read_csv('/gh/data/personal-data-requests/linkedin/SearchQueries.csv', parse_dates=['Time']).sort_values('Time')\n",
    "df_searches.loc[[83]]"
   ]
  },
  {
   "cell_type": "code",
   "execution_count": 34,
   "metadata": {},
   "outputs": [
    {
     "data": {
      "text/html": [
       "<div>\n",
       "<style scoped>\n",
       "    .dataframe tbody tr th:only-of-type {\n",
       "        vertical-align: middle;\n",
       "    }\n",
       "\n",
       "    .dataframe tbody tr th {\n",
       "        vertical-align: top;\n",
       "    }\n",
       "\n",
       "    .dataframe thead th {\n",
       "        text-align: right;\n",
       "    }\n",
       "</style>\n",
       "<table border=\"1\" class=\"dataframe\">\n",
       "  <thead>\n",
       "    <tr style=\"text-align: right;\">\n",
       "      <th></th>\n",
       "      <th>From</th>\n",
       "      <th>To</th>\n",
       "      <th>Sent At</th>\n",
       "      <th>Message</th>\n",
       "      <th>Direction</th>\n",
       "    </tr>\n",
       "  </thead>\n",
       "  <tbody>\n",
       "    <tr>\n",
       "      <th>0</th>\n",
       "      <td>Scott Cole</td>\n",
       "      <td>Brian Lin</td>\n",
       "      <td>1/31/19, 4:07 PM</td>\n",
       "      <td>NaN</td>\n",
       "      <td>OUTGOING</td>\n",
       "    </tr>\n",
       "  </tbody>\n",
       "</table>\n",
       "</div>"
      ],
      "text/plain": [
       "         From         To           Sent At Message Direction\n",
       "0  Scott Cole  Brian Lin  1/31/19, 4:07 PM     NaN  OUTGOING"
      ]
     },
     "execution_count": 34,
     "metadata": {},
     "output_type": "execute_result"
    }
   ],
   "source": [
    "df_invitations = pd.read_csv('/gh/data/personal-data-requests/linkedin/Invitations.csv').sort_values('Sent At').reset_index(drop=True)\n",
    "df_invitations.loc[[0]]"
   ]
  },
  {
   "cell_type": "markdown",
   "metadata": {},
   "source": [
    "# 2. Connections' jobs"
   ]
  },
  {
   "cell_type": "markdown",
   "metadata": {},
   "source": [
    "### 2a. most popular companies"
   ]
  },
  {
   "cell_type": "code",
   "execution_count": 35,
   "metadata": {},
   "outputs": [
    {
     "data": {
      "text/plain": [
       "Samba TV                              25\n",
       "Insight Data Science                  22\n",
       "Clemson University                    20\n",
       "University of California San Diego     5\n",
       "UC San Diego                           5\n",
       "Amazon                                 3\n",
       "W. L. Gore & Associates                3\n",
       "Gentner Lab, UC San Diego              2\n",
       "Facebook                               2\n",
       "Google                                 2\n",
       "Name: Company, dtype: int64"
      ]
     },
     "execution_count": 35,
     "metadata": {},
     "output_type": "execute_result"
    }
   ],
   "source": [
    "df_connections['Company'].value_counts().head(10)"
   ]
  },
  {
   "cell_type": "markdown",
   "metadata": {},
   "source": [
    "### 2b. parse position"
   ]
  },
  {
   "cell_type": "code",
   "execution_count": 36,
   "metadata": {},
   "outputs": [
    {
     "name": "stderr",
     "output_type": "stream",
     "text": [
      "/Users/scott/anaconda/lib/python3.6/site-packages/ipykernel_launcher.py:30: SettingWithCopyWarning: \n",
      "A value is trying to be set on a copy of a slice from a DataFrame.\n",
      "Try using .loc[row_indexer,col_indexer] = value instead\n",
      "\n",
      "See the caveats in the documentation: http://pandas.pydata.org/pandas-docs/stable/indexing.html#indexing-view-versus-copy\n"
     ]
    }
   ],
   "source": [
    "ordered_keyword_to_category = [('data scien', 'data scientist'),\n",
    "                                ('graduate', 'grad student'),\n",
    "                                ('ph.d', 'grad student'),\n",
    "                                ('phd', 'grad student'),\n",
    "                                ('professor', 'professor'),\n",
    "                                ('lecturer', 'professor'),\n",
    "                                ('chair', 'professor'),\n",
    "                                ('postdoc', 'research'),\n",
    "                                ('research', 'research'),\n",
    "                                ('scientist', 'research'),\n",
    "                                ('engineer', 'engineer'),\n",
    "                                ('developer', 'engineer'),\n",
    "                                ('manager', 'manager'),\n",
    "                                ('analyst', 'analyst'),\n",
    "                                ('consult', 'consulting'),\n",
    "                                ('marketing', 'business'),\n",
    "                                ('business', 'business'),\n",
    "                                ('partner', 'business'),\n",
    "                                ('health', 'healthcare'),\n",
    "                                ('clinic', 'healthcare'),\n",
    "                                ('doctor', 'healthcare'),\n",
    "                                ('physician', 'healthcare')]\n",
    "\n",
    "def get_job_category(title):\n",
    "    for (k, v) in ordered_keyword_to_category:\n",
    "        if k in title:\n",
    "            return v\n",
    "\n",
    "df_connections2 = df_connections.dropna(subset=['Position'])\n",
    "df_connections2['job_category'] = df_connections2['Position'].str.lower().apply(get_job_category)"
   ]
  },
  {
   "cell_type": "code",
   "execution_count": 37,
   "metadata": {},
   "outputs": [
    {
     "data": {
      "image/png": "[encoded data removed]",
      "text/plain": [
       "<Figure size 360x360 with 1 Axes>"
      ]
     },
     "metadata": {},
     "output_type": "display_data"
    }
   ],
   "source": [
    "# Prep data to plot\n",
    "df_plt = df_connections2.copy()\n",
    "df_plt = df_plt['job_category'].value_counts().reset_index().rename(columns={'index': 'job_category', 'job_category': 'count'})\n",
    "\n",
    "# Plot bars\n",
    "plt.figure(figsize=(5,5))\n",
    "g=sns.barplot(x='count', y='job_category', data=df_plt,\n",
    "              palette=sns.color_palette('Greens_d', n_colors=len(df_plt)))\n",
    "\n",
    "# Plot numbers\n",
    "for index, row in df_plt.iterrows():\n",
    "    g.text(x=row['count'] + 2,\n",
    "           y=index + .2,\n",
    "           s=row['count'],\n",
    "           color='black',\n",
    "           ha=\"left\",\n",
    "           size=14)\n",
    "\n",
    "plt.ylabel('')\n",
    "plt.xlabel('# LinkedIn Connections')\n",
    "plt.xlim((0,70))\n",
    "plt.tight_layout()\n",
    "    \n",
    "plt.savefig('/gh/srcole.github.io/assets/personaldata/linkedin_connection_categories.png')"
   ]
  },
  {
   "cell_type": "markdown",
   "metadata": {},
   "source": [
    "# NOTE: this would be better if I used information from the company\n",
    "* Get a sense of industry too"
   ]
  }
 ],
 "metadata": {
  "kernelspec": {
   "display_name": "Python 3",
   "language": "python",
   "name": "python3"
  },
  "language_info": {
   "codemirror_mode": {
    "name": "ipython",
    "version": 3
   },
   "file_extension": ".py",
   "mimetype": "text/x-python",
   "name": "python",
   "nbconvert_exporter": "python",
   "pygments_lexer": "ipython3",
   "version": "3.6.4"
  }
 },
 "nbformat": 4,
 "nbformat_minor": 2
}
