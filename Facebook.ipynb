{
 "cells": [
  {
   "cell_type": "code",
   "execution_count": 1,
   "metadata": {},
   "outputs": [],
   "source": [
    "import pandas as pd\n",
    "import numpy as np\n",
    "import json\n",
    "import datetime\n",
    "import re\n",
    "\n",
    "%matplotlib inline\n",
    "import matplotlib.pyplot as plt\n",
    "import seaborn as sns\n",
    "import glob\n",
    "\n",
    "pd.options.display.max_rows = 200\n",
    "\n",
    "sns.set_style('whitegrid')\n",
    "plt.style.use('Cole_2018.mplstyle')"
   ]
  },
  {
   "cell_type": "markdown",
   "metadata": {},
   "source": [
    "# 1. Load raw data"
   ]
  },
  {
   "cell_type": "markdown",
   "metadata": {},
   "source": [
    "### 1a. comments"
   ]
  },
  {
   "cell_type": "code",
   "execution_count": 2,
   "metadata": {},
   "outputs": [
    {
     "data": {
      "text/plain": [
       "{'timestamp': 1564021887,\n",
       " 'data': [{'comment': {'timestamp': 1564021887,\n",
       "    'comment': 'good call. hm. yeah, I wonder how we could get a measure of \"severity\". That would be cool. I\\'m hoping to do some text analysis with this data at a later point too. So could start exploring it then. We could set up a Google Collaboratory notebook to explore together!\\n(in the meantime, just got my personal data from Tinder so exploring that depressing data ð\\x9f\\x98\\x82 along with the rest of r/dataisbeautiful)',\n",
       "    'author': 'Scott Cole'}}],\n",
       " 'title': \"Scott Cole replied to Alex Vickers's comment.\"}"
      ]
     },
     "execution_count": 2,
     "metadata": {},
     "output_type": "execute_result"
    }
   ],
   "source": [
    "df = pd.read_json('/gh/data/personal-data-requests/facebook/comments/comments.json')\n",
    "df.loc[0, 'comments']"
   ]
  },
  {
   "cell_type": "code",
   "execution_count": 3,
   "metadata": {},
   "outputs": [
    {
     "data": {
      "text/html": [
       "<div>\n",
       "<style scoped>\n",
       "    .dataframe tbody tr th:only-of-type {\n",
       "        vertical-align: middle;\n",
       "    }\n",
       "\n",
       "    .dataframe tbody tr th {\n",
       "        vertical-align: top;\n",
       "    }\n",
       "\n",
       "    .dataframe thead th {\n",
       "        text-align: right;\n",
       "    }\n",
       "</style>\n",
       "<table border=\"1\" class=\"dataframe\">\n",
       "  <thead>\n",
       "    <tr style=\"text-align: right;\">\n",
       "      <th></th>\n",
       "      <th>timestamp</th>\n",
       "      <th>title</th>\n",
       "      <th>comment</th>\n",
       "    </tr>\n",
       "  </thead>\n",
       "  <tbody>\n",
       "    <tr>\n",
       "      <th>322</th>\n",
       "      <td>1466517685</td>\n",
       "      <td>Scott Cole commented on Matteo D'Antonio's post.</td>\n",
       "      <td>I'll be there</td>\n",
       "    </tr>\n",
       "  </tbody>\n",
       "</table>\n",
       "</div>"
      ],
      "text/plain": [
       "      timestamp                                             title  \\\n",
       "322  1466517685  Scott Cole commented on Matteo D'Antonio's post.   \n",
       "\n",
       "           comment  \n",
       "322  I'll be there  "
      ]
     },
     "execution_count": 3,
     "metadata": {},
     "output_type": "execute_result"
    }
   ],
   "source": [
    "jp = '/gh/data/personal-data-requests/facebook/comments/comments.json'\n",
    "with open(jp) as file:\n",
    "    data = json.load(file)\n",
    "df_comments = pd.DataFrame(data['comments'])\n",
    "df_comments['comment'] = [x[0]['comment']['comment'] if x is not np.nan else np.nan for x in df_comments['data']]\n",
    "cols_keep = ['timestamp', 'title', 'comment']\n",
    "df_comments = df_comments[cols_keep]\n",
    "df_comments.loc[[322]]"
   ]
  },
  {
   "cell_type": "markdown",
   "metadata": {},
   "source": [
    "### 1b. Events"
   ]
  },
  {
   "cell_type": "code",
   "execution_count": 4,
   "metadata": {},
   "outputs": [
    {
     "name": "stderr",
     "output_type": "stream",
     "text": [
      "/Users/scott/anaconda/lib/python3.6/site-packages/ipykernel_launcher.py:10: FutureWarning: Sorting because non-concatenation axis is not aligned. A future version\n",
      "of pandas will change to not sort by default.\n",
      "\n",
      "To accept the future behavior, pass 'sort=False'.\n",
      "\n",
      "To retain the current behavior and silence the warning, pass 'sort=True'.\n",
      "\n",
      "  # Remove the CWD from sys.path while we load stuff.\n"
     ]
    },
    {
     "data": {
      "text/html": [
       "<div>\n",
       "<style scoped>\n",
       "    .dataframe tbody tr th:only-of-type {\n",
       "        vertical-align: middle;\n",
       "    }\n",
       "\n",
       "    .dataframe tbody tr th {\n",
       "        vertical-align: top;\n",
       "    }\n",
       "\n",
       "    .dataframe thead th {\n",
       "        text-align: right;\n",
       "    }\n",
       "</style>\n",
       "<table border=\"1\" class=\"dataframe\">\n",
       "  <thead>\n",
       "    <tr style=\"text-align: right;\">\n",
       "      <th></th>\n",
       "      <th>start_timestamp</th>\n",
       "      <th>end_timestamp</th>\n",
       "      <th>type</th>\n",
       "      <th>name</th>\n",
       "    </tr>\n",
       "  </thead>\n",
       "  <tbody>\n",
       "    <tr>\n",
       "      <th>95</th>\n",
       "      <td>1289957400</td>\n",
       "      <td>1289964600</td>\n",
       "      <td>events_declined</td>\n",
       "      <td>Harry Potter Trivia Night</td>\n",
       "    </tr>\n",
       "  </tbody>\n",
       "</table>\n",
       "</div>"
      ],
      "text/plain": [
       "    start_timestamp  end_timestamp             type                       name\n",
       "95       1289957400     1289964600  events_declined  Harry Potter Trivia Night"
      ]
     },
     "execution_count": 4,
     "metadata": {},
     "output_type": "execute_result"
    }
   ],
   "source": [
    "jp = '/gh/data/personal-data-requests/facebook/events/your_event_responses.json'\n",
    "import json\n",
    "with open(jp) as file:\n",
    "    data = json.load(file)\n",
    "df_events = []\n",
    "for k,v in data['event_responses'].items():\n",
    "    df_temp = pd.DataFrame(v)\n",
    "    df_temp['type'] = k\n",
    "    df_events.append(df_temp)\n",
    "df_events = pd.concat(df_events).reset_index(drop=True)\n",
    "cols_keep = ['start_timestamp', 'end_timestamp', 'type', 'name']\n",
    "df_events = df_events[cols_keep]\n",
    "df_events.loc[[95]]"
   ]
  },
  {
   "cell_type": "markdown",
   "metadata": {},
   "source": [
    "### 1c. friends"
   ]
  },
  {
   "cell_type": "code",
   "execution_count": 5,
   "metadata": {},
   "outputs": [
    {
     "data": {
      "text/html": [
       "<div>\n",
       "<style scoped>\n",
       "    .dataframe tbody tr th:only-of-type {\n",
       "        vertical-align: middle;\n",
       "    }\n",
       "\n",
       "    .dataframe tbody tr th {\n",
       "        vertical-align: top;\n",
       "    }\n",
       "\n",
       "    .dataframe thead th {\n",
       "        text-align: right;\n",
       "    }\n",
       "</style>\n",
       "<table border=\"1\" class=\"dataframe\">\n",
       "  <thead>\n",
       "    <tr style=\"text-align: right;\">\n",
       "      <th></th>\n",
       "      <th>name</th>\n",
       "      <th>timestamp</th>\n",
       "    </tr>\n",
       "  </thead>\n",
       "  <tbody>\n",
       "    <tr>\n",
       "      <th>711</th>\n",
       "      <td>Josh Patel</td>\n",
       "      <td>1188509673</td>\n",
       "    </tr>\n",
       "  </tbody>\n",
       "</table>\n",
       "</div>"
      ],
      "text/plain": [
       "           name   timestamp\n",
       "711  Josh Patel  1188509673"
      ]
     },
     "execution_count": 5,
     "metadata": {},
     "output_type": "execute_result"
    }
   ],
   "source": [
    "jp = '/gh/data/personal-data-requests/facebook/friends/friends.json'\n",
    "import json\n",
    "with open(jp) as file:\n",
    "    data = json.load(file)\n",
    "df_friends = pd.DataFrame(data['friends']).drop('contact_info', axis=1)\n",
    "df_friends.loc[[len(df_friends)-1]]"
   ]
  },
  {
   "cell_type": "code",
   "execution_count": 6,
   "metadata": {},
   "outputs": [
    {
     "data": {
      "text/plain": [
       "Chris      9\n",
       "Lauren     7\n",
       "Alex       7\n",
       "Tyler      7\n",
       "Ryan       7\n",
       "Stephen    7\n",
       "Andrew     6\n",
       "Rachel     6\n",
       "Kyle       6\n",
       "Daniel     6\n",
       "dtype: int64"
      ]
     },
     "execution_count": 6,
     "metadata": {},
     "output_type": "execute_result"
    }
   ],
   "source": [
    "pd.Series([x.split(' ')[0] for x in df_friends['name']]).value_counts()[:10]"
   ]
  },
  {
   "cell_type": "markdown",
   "metadata": {},
   "source": [
    "### 1d. Likes"
   ]
  },
  {
   "cell_type": "code",
   "execution_count": 7,
   "metadata": {},
   "outputs": [
    {
     "data": {
      "text/html": [
       "<div>\n",
       "<style scoped>\n",
       "    .dataframe tbody tr th:only-of-type {\n",
       "        vertical-align: middle;\n",
       "    }\n",
       "\n",
       "    .dataframe tbody tr th {\n",
       "        vertical-align: top;\n",
       "    }\n",
       "\n",
       "    .dataframe thead th {\n",
       "        text-align: right;\n",
       "    }\n",
       "</style>\n",
       "<table border=\"1\" class=\"dataframe\">\n",
       "  <thead>\n",
       "    <tr style=\"text-align: right;\">\n",
       "      <th></th>\n",
       "      <th>timestamp</th>\n",
       "      <th>title</th>\n",
       "      <th>reaction_type</th>\n",
       "    </tr>\n",
       "  </thead>\n",
       "  <tbody>\n",
       "    <tr>\n",
       "      <th>4</th>\n",
       "      <td>1564798723</td>\n",
       "      <td>Scott Cole likes Ian Hale's post.</td>\n",
       "      <td>LIKE</td>\n",
       "    </tr>\n",
       "  </tbody>\n",
       "</table>\n",
       "</div>"
      ],
      "text/plain": [
       "    timestamp                              title reaction_type\n",
       "4  1564798723  Scott Cole likes Ian Hale's post.          LIKE"
      ]
     },
     "execution_count": 7,
     "metadata": {},
     "output_type": "execute_result"
    }
   ],
   "source": [
    "jp = '/gh/data/personal-data-requests/facebook/likes_and_reactions/posts_and_comments.json'\n",
    "import json\n",
    "with open(jp) as file:\n",
    "    data = json.load(file)\n",
    "df_likes = pd.DataFrame(data['reactions']).drop('attachments', axis=1)\n",
    "df_likes['reaction_type'] = [x[0]['reaction']['reaction'] for x in df_likes['data']]\n",
    "df_likes.drop('data', axis=1, inplace=True)\n",
    "df_likes.loc[[4]]"
   ]
  },
  {
   "cell_type": "code",
   "execution_count": 8,
   "metadata": {},
   "outputs": [
    {
     "data": {
      "text/plain": [
       "LIKE     4301\n",
       "HAHA       48\n",
       "LOVE       35\n",
       "SORRY      30\n",
       "ANGER      14\n",
       "WOW         5\n",
       "Name: reaction_type, dtype: int64"
      ]
     },
     "execution_count": 8,
     "metadata": {},
     "output_type": "execute_result"
    }
   ],
   "source": [
    "df_likes['reaction_type'].value_counts()"
   ]
  },
  {
   "cell_type": "markdown",
   "metadata": {},
   "source": [
    "### 1e. location"
   ]
  },
  {
   "cell_type": "code",
   "execution_count": 9,
   "metadata": {},
   "outputs": [
    {
     "data": {
      "text/html": [
       "<div>\n",
       "<style scoped>\n",
       "    .dataframe tbody tr th:only-of-type {\n",
       "        vertical-align: middle;\n",
       "    }\n",
       "\n",
       "    .dataframe tbody tr th {\n",
       "        vertical-align: top;\n",
       "    }\n",
       "\n",
       "    .dataframe thead th {\n",
       "        text-align: right;\n",
       "    }\n",
       "</style>\n",
       "<table border=\"1\" class=\"dataframe\">\n",
       "  <thead>\n",
       "    <tr style=\"text-align: right;\">\n",
       "      <th></th>\n",
       "      <th>ts</th>\n",
       "      <th>name</th>\n",
       "      <th>latitude</th>\n",
       "      <th>longitude</th>\n",
       "    </tr>\n",
       "  </thead>\n",
       "  <tbody>\n",
       "    <tr>\n",
       "      <th>4258</th>\n",
       "      <td>1477679141</td>\n",
       "      <td>Carlsbad</td>\n",
       "      <td>33.16043</td>\n",
       "      <td>-117.34948</td>\n",
       "    </tr>\n",
       "  </tbody>\n",
       "</table>\n",
       "</div>"
      ],
      "text/plain": [
       "              ts      name  latitude  longitude\n",
       "4258  1477679141  Carlsbad  33.16043 -117.34948"
      ]
     },
     "execution_count": 9,
     "metadata": {},
     "output_type": "execute_result"
    }
   ],
   "source": [
    "jp = '/gh/data/personal-data-requests/facebook/location/location_history.json'\n",
    "import json\n",
    "with open(jp) as file:\n",
    "    data = json.load(file)\n",
    "df_loc = pd.DataFrame(data['location_history']).rename(columns={'creation_timestamp': 'ts'})\n",
    "df_loc['latitude'] = [x['latitude'] for x in df_loc['coordinate']]\n",
    "df_loc['longitude'] = [x['longitude'] for x in df_loc['coordinate']]\n",
    "df_loc.drop('coordinate', axis=1, inplace=True)\n",
    "df_loc.loc[[4258]]"
   ]
  },
  {
   "cell_type": "markdown",
   "metadata": {},
   "source": [
    "### 1f. messages"
   ]
  },
  {
   "cell_type": "code",
   "execution_count": 10,
   "metadata": {},
   "outputs": [
    {
     "data": {
      "text/html": [
       "<div>\n",
       "<style scoped>\n",
       "    .dataframe tbody tr th:only-of-type {\n",
       "        vertical-align: middle;\n",
       "    }\n",
       "\n",
       "    .dataframe tbody tr th {\n",
       "        vertical-align: top;\n",
       "    }\n",
       "\n",
       "    .dataframe thead th {\n",
       "        text-align: right;\n",
       "    }\n",
       "</style>\n",
       "<table border=\"1\" class=\"dataframe\">\n",
       "  <thead>\n",
       "    <tr style=\"text-align: right;\">\n",
       "      <th></th>\n",
       "      <th>content</th>\n",
       "      <th>photos</th>\n",
       "      <th>reactions</th>\n",
       "      <th>sender_name</th>\n",
       "      <th>share</th>\n",
       "      <th>sticker</th>\n",
       "      <th>timestamp_ms</th>\n",
       "      <th>type</th>\n",
       "    </tr>\n",
       "  </thead>\n",
       "  <tbody>\n",
       "    <tr>\n",
       "      <th>518</th>\n",
       "      <td>I'm interested to see how soon it will be unti...</td>\n",
       "      <td>NaN</td>\n",
       "      <td>NaN</td>\n",
       "      <td>Scott Cole</td>\n",
       "      <td>NaN</td>\n",
       "      <td>NaN</td>\n",
       "      <td>1400624708631</td>\n",
       "      <td>Generic</td>\n",
       "    </tr>\n",
       "  </tbody>\n",
       "</table>\n",
       "</div>"
      ],
      "text/plain": [
       "                                               content photos reactions  \\\n",
       "518  I'm interested to see how soon it will be unti...    NaN       NaN   \n",
       "\n",
       "    sender_name share sticker   timestamp_ms     type  \n",
       "518  Scott Cole   NaN     NaN  1400624708631  Generic  "
      ]
     },
     "execution_count": 10,
     "metadata": {},
     "output_type": "execute_result"
    }
   ],
   "source": [
    "messenger_name = 'AlexVickers_374yFHL9yw'\n",
    "jp = '/gh/data/personal-data-requests/facebook/messages/inbox/{}/message_1.json'.format(messenger_name)\n",
    "import json\n",
    "with open(jp) as file:\n",
    "    data = json.load(file)\n",
    "df_messages_alex = pd.DataFrame(data['messages'])\n",
    "df_messages_alex.loc[[518]]"
   ]
  },
  {
   "cell_type": "markdown",
   "metadata": {},
   "source": [
    "### 1g. posts"
   ]
  },
  {
   "cell_type": "code",
   "execution_count": 11,
   "metadata": {},
   "outputs": [
    {
     "data": {
      "text/html": [
       "<div>\n",
       "<style scoped>\n",
       "    .dataframe tbody tr th:only-of-type {\n",
       "        vertical-align: middle;\n",
       "    }\n",
       "\n",
       "    .dataframe tbody tr th {\n",
       "        vertical-align: top;\n",
       "    }\n",
       "\n",
       "    .dataframe thead th {\n",
       "        text-align: right;\n",
       "    }\n",
       "</style>\n",
       "<table border=\"1\" class=\"dataframe\">\n",
       "  <thead>\n",
       "    <tr style=\"text-align: right;\">\n",
       "      <th></th>\n",
       "      <th>attachments</th>\n",
       "      <th>data</th>\n",
       "      <th>tags</th>\n",
       "      <th>timestamp</th>\n",
       "      <th>title</th>\n",
       "    </tr>\n",
       "  </thead>\n",
       "  <tbody>\n",
       "    <tr>\n",
       "      <th>0</th>\n",
       "      <td>[{'data': [{'media': {'uri': 'photos_and_video...</td>\n",
       "      <td>[{'post': 'Fun exploration of Politifact check...</td>\n",
       "      <td>NaN</td>\n",
       "      <td>1563657751</td>\n",
       "      <td>NaN</td>\n",
       "    </tr>\n",
       "  </tbody>\n",
       "</table>\n",
       "</div>"
      ],
      "text/plain": [
       "                                         attachments  \\\n",
       "0  [{'data': [{'media': {'uri': 'photos_and_video...   \n",
       "\n",
       "                                                data tags   timestamp title  \n",
       "0  [{'post': 'Fun exploration of Politifact check...  NaN  1563657751   NaN  "
      ]
     },
     "execution_count": 11,
     "metadata": {},
     "output_type": "execute_result"
    }
   ],
   "source": [
    "jp = '/gh/data/personal-data-requests/facebook/posts/your_posts_1.json'\n",
    "import json\n",
    "with open(jp) as file:\n",
    "    data = json.load(file)\n",
    "df_posts = pd.DataFrame(data)\n",
    "df_posts.loc[[0]]"
   ]
  },
  {
   "cell_type": "markdown",
   "metadata": {},
   "source": [
    "# 2. Analyze likes"
   ]
  },
  {
   "cell_type": "markdown",
   "metadata": {},
   "source": [
    "### 2a. Most liked authors and groups"
   ]
  },
  {
   "cell_type": "code",
   "execution_count": 12,
   "metadata": {},
   "outputs": [],
   "source": [
    "reactions = ['likes', 'liked', 'reacted to']\n",
    "possible_objects = ['post', 'photo', 'comment', 'video', 'link', 'album', 'life event', 'friendship', 'GIF']\n",
    "\n",
    "splits = '|'.join(possible_objects + reactions)\n",
    "titles_split = [re.split(splits, x) for x in df_likes['title']]\n",
    "authors = [x[1].strip().replace(\"'s\", '') for x in titles_split]\n",
    "authors_counts = pd.Series(authors).value_counts()\n",
    "\n",
    "groups_of_posts = [x[2].replace(' in ', '').replace('.', '').strip() for x in titles_split]\n",
    "groups_counts = pd.Series(groups_of_posts).value_counts()\n",
    "\n",
    "all_counts = pd.Series(authors + groups_of_posts).value_counts()"
   ]
  },
  {
   "cell_type": "markdown",
   "metadata": {},
   "source": [
    "# Likes over time\n",
    "* Meme vs post\n",
    "* High school friends. College friends. Grad school friends. Spongebob memes. Meme pages. Meme groups\n",
    "* Note having just 2 categories is very over-simplifying and makes errors"
   ]
  },
  {
   "cell_type": "code",
   "execution_count": 13,
   "metadata": {},
   "outputs": [],
   "source": [
    "# Define strings indicative of memes\n",
    "groups_keep = ['Subtle Depressed People Traits', 'is mayonnaise an instrument',\n",
    "               'SDPT Dating and Friends', 'Anxiety & Depression Memes',\n",
    "               'subtle asian traits']\n",
    "pages_keep = ['Disturbing Quotes', 'SDPT Confessions', 'Nihilist Memes', 'I See What You Did There']\n",
    "\n",
    "meme_strs = groups_keep + pages_keep\n",
    "df_likes['is_meme'] = [any(x in title for x in meme_strs) for title in df_likes['title']]\n",
    "df_likes['dt'] = pd.to_datetime(df_likes['timestamp'],unit='s')\n",
    "df_likes['month_year'] = df_likes['dt'].dt.round('d') + pd.offsets.MonthEnd(0)"
   ]
  },
  {
   "cell_type": "code",
   "execution_count": 14,
   "metadata": {},
   "outputs": [
    {
     "data": {
      "image/png": "[encoded data removed]",
      "text/plain": [
       "<Figure size 936x360 with 1 Axes>"
      ]
     },
     "metadata": {
      "needs_background": "light"
     },
     "output_type": "display_data"
    }
   ],
   "source": [
    "df_plt = df_likes.groupby(['month_year', 'is_meme'])['dt'].count().reset_index().rename(columns={'dt': 'count'})\n",
    "df_plt = df_plt.pivot(index='month_year', columns='is_meme', values='count').fillna(0)\n",
    "df_plt = df_plt.reindex(pd.date_range('2009-06-01', '2019-08-01', freq='M')).fillna(0).stack().reset_index()\n",
    "df_plt = df_plt.rename(columns={'level_0': 'date', 'artistName': 'artist', 0: 'count'})\n",
    "df_plt['liked'] = df_plt['is_meme'].map({True: 'Memes', False: \"Friend's posts\"})\n",
    "\n",
    "plt.figure(figsize=(13,5))\n",
    "\n",
    "sns.lineplot(x='date', y='count', data=df_plt, hue='liked', linewidth=3,\n",
    "             palette=sns.color_palette('hls', n_colors=2)\n",
    "            )\n",
    "plt.xticks([datetime.datetime(x, 1, 1) for x in range(2009,2021)])\n",
    "plt.xlim(datetime.datetime(2014, 1, 1), datetime.datetime(2019, 9, 1))\n",
    "plt.ylim((-.2,150))\n",
    "plt.yticks(np.arange(0,151,50))\n",
    "plt.xticks([datetime.datetime(x, 1, 1) for x in np.arange(2014,2020)],\n",
    "           ['Jan {}'.format(x) for x in np.arange(2014,2020)])\n",
    "plt.xlabel('')\n",
    "plt.ylabel('# Posts I liked on Facebook')\n",
    "\n",
    "# # Format legend\n",
    "leg = plt.legend(fontsize=20, loc='upper left')\n",
    "leg.texts[0].set_text(None)\n",
    "for line in leg.get_lines():\n",
    "    line.set_linewidth(3)\n",
    "    \n",
    "plt.savefig('/gh/srcole.github.io/assets/personaldata/facebook_meme_likes_temporal.png')"
   ]
  }
 ],
 "metadata": {
  "kernelspec": {
   "display_name": "Python 3",
   "language": "python",
   "name": "python3"
  },
  "language_info": {
   "codemirror_mode": {
    "name": "ipython",
    "version": 3
   },
   "file_extension": ".py",
   "mimetype": "text/x-python",
   "name": "python",
   "nbconvert_exporter": "python",
   "pygments_lexer": "ipython3",
   "version": "3.6.4"
  }
 },
 "nbformat": 4,
 "nbformat_minor": 2
}
